{
 "cells": [
  {
   "cell_type": "code",
   "execution_count": null,
   "id": "c15b7bb3-6c94-43cf-9c1d-f758aa5f2182",
   "metadata": {},
   "outputs": [],
   "source": [
    "#import thư viện\n",
    "from PIL import Image\n",
    "import matplotlib.pyplot as plt\n",
    "\n",
    "# đường dẫn ảnh\n",
    "dir = 'C:/Users/84397/Documents/TGMT/01/1.jpg'\n",
    "\n",
    "# đọc ảnh\n",
    "im = Image.open(dir)\n",
    "\n",
    "#chuyển đổi backend\n",
    "plt.switch_backend('tkagg')\n",
    "\n",
    "# hiển thị ảnh\n",
    "plt.imshow(im)\n",
    "plt.title('click on the image to select point')\n",
    "\n",
    "#sử dụng hàm ginput để chọn điểm trên ảnh\n",
    "points = plt.ginput(5)\n",
    "\n",
    "print(points)\n",
    "\n",
    "#hiển thị\n",
    "plt.show()"
   ]
  },
  {
   "cell_type": "code",
   "execution_count": null,
   "id": "aee4a624-c386-41c1-a5b1-82af5494bca5",
   "metadata": {},
   "outputs": [],
   "source": [
    "#vẽ lại các điểm đã chọn bằng dấu * màu đỏ\n",
    "plt.close()\n",
    "\n",
    "#vẽ lại\n",
    "for point in points:\n",
    "    x, y = point\n",
    "    plt.plot(x,y, 'r*')\n",
    "plt.show()"
   ]
  },
  {
   "cell_type": "code",
   "execution_count": null,
   "id": "2859c49a-6595-4d80-a241-5d75f44ee8eb",
   "metadata": {},
   "outputs": [],
   "source": []
  }
 ],
 "metadata": {
  "kernelspec": {
   "display_name": "Python 3 (ipykernel)",
   "language": "python",
   "name": "python3"
  },
  "language_info": {
   "codemirror_mode": {
    "name": "ipython",
    "version": 3
   },
   "file_extension": ".py",
   "mimetype": "text/x-python",
   "name": "python",
   "nbconvert_exporter": "python",
   "pygments_lexer": "ipython3",
   "version": "3.12.4"
  }
 },
 "nbformat": 4,
 "nbformat_minor": 5
}
