{
 "cells": [
  {
   "cell_type": "code",
   "execution_count": 1,
   "id": "49063cf7-1eab-4112-8a58-280b0ebe8d44",
   "metadata": {},
   "outputs": [
    {
     "name": "stdout",
     "output_type": "stream",
     "text": [
      "Requirement already satisfied: scipy in d:\\anaconda\\lib\\site-packages (1.13.1)\n",
      "Requirement already satisfied: numpy<2.3,>=1.22.4 in d:\\anaconda\\lib\\site-packages (from scipy) (1.26.4)\n"
     ]
    }
   ],
   "source": [
    "!pip install scipy"
   ]
  },
  {
   "cell_type": "code",
   "execution_count": 3,
   "id": "8ecbcb20-d233-4270-8c4e-3aa76c8d5e03",
   "metadata": {},
   "outputs": [],
   "source": [
    "from scipy import linalg\n",
    "import numpy as np"
   ]
  },
  {
   "cell_type": "code",
   "execution_count": 5,
   "id": "85c2efa5-77c6-45ba-9819-b6dbe33c607c",
   "metadata": {},
   "outputs": [
    {
     "name": "stdout",
     "output_type": "stream",
     "text": [
      "Kết quả:  [ 3. -1.]\n"
     ]
    }
   ],
   "source": [
    "#định nghĩa hệ phương trình tuyến tính\n",
    "A = np.array([[2,1],[3,2]])\n",
    "b = np.array([5,7])\n",
    "\n",
    "#giải hệ phương trình tuyến tính\n",
    "x = linalg.solve(A, b)\n",
    "print(\"Kết quả: \", x)"
   ]
  },
  {
   "cell_type": "code",
   "execution_count": 9,
   "id": "0c7d711b-dfec-48aa-b9ca-a6697a5a296d",
   "metadata": {},
   "outputs": [
    {
     "name": "stdout",
     "output_type": "stream",
     "text": [
      "tích phân f(x) từ 0 đến 1:  (21.000000000000004, 2.331468351712829e-13)\n"
     ]
    }
   ],
   "source": [
    "from scipy import integrate\n",
    "#tính tích phân của 1 hàm số\n",
    "#định nghĩa f(x)=x^2\n",
    "def my_function(x):\n",
    "    return x**2;\n",
    "\n",
    "#tính tích phân của f(x) từ 0 đến 1\n",
    "integral = integrate.quad(my_function, 1, 4);\n",
    "print(\"tích phân f(x) từ 0 đến 1: \", integral)"
   ]
  },
  {
   "cell_type": "code",
   "execution_count": 11,
   "id": "af6cbbd1-a8b3-4119-af3d-b1c38dde25b1",
   "metadata": {},
   "outputs": [],
   "source": [
    "from scipy import linalg\n",
    "import numpy as np\n",
    "#tính giá trị riêng và vector riêng của một ma trận\n",
    "a = np.array([[4,5],[6,4]])\n",
    "\n",
    "#tính giá trị riêng và vector riêng \n",
    "evals, evecs = linalg.eig(a)\n",
    "\n"
   ]
  },
  {
   "cell_type": "code",
   "execution_count": 13,
   "id": "b8817c89-9ce7-4719-8bcc-d067d9181178",
   "metadata": {},
   "outputs": [
    {
     "name": "stdout",
     "output_type": "stream",
     "text": [
      "giá trị riêng:  [ 9.47722558+0.j -1.47722558+0.j]\n",
      "giá trị riêng:  [[ 0.67419986 -0.67419986]\n",
      " [ 0.73854895  0.73854895]]\n"
     ]
    }
   ],
   "source": [
    "print(\"giá trị riêng: \", evals)\n",
    "print(\"giá trị riêng: \", evecs)"
   ]
  },
  {
   "cell_type": "code",
   "execution_count": null,
   "id": "fc36d10b-3ebf-4322-9647-3ec5a9641e7f",
   "metadata": {},
   "outputs": [],
   "source": []
  }
 ],
 "metadata": {
  "kernelspec": {
   "display_name": "Python 3 (ipykernel)",
   "language": "python",
   "name": "python3"
  },
  "language_info": {
   "codemirror_mode": {
    "name": "ipython",
    "version": 3
   },
   "file_extension": ".py",
   "mimetype": "text/x-python",
   "name": "python",
   "nbconvert_exporter": "python",
   "pygments_lexer": "ipython3",
   "version": "3.12.4"
  }
 },
 "nbformat": 4,
 "nbformat_minor": 5
}
